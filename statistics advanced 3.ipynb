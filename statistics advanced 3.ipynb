{
 "cells": [
  {
   "cell_type": "markdown",
   "id": "36d18546-2098-4915-98d1-8ae9db0cd937",
   "metadata": {},
   "source": [
    "Q1: What is Estimation Statistics? Explain point estimate and interval estimate.\n",
    "\n",
    "Q2. Write a Python function to estimate the population mean using a sample mean and standard\n",
    "deviation.\n",
    "\n",
    "Q3: What is Hypothesis testing? Why is it used? State the importance of Hypothesis testing.\n",
    "\n",
    "Q4. Create a hypothesis that states whether the average weight of male college students is greater than\n",
    "the average weight of female college students.\n",
    "\n",
    "Q5. Write a Python script to conduct a hypothesis test on the difference between two population means,\n",
    "given a sample from each population.\n",
    "\n",
    "Q6: What is a null and alternative hypothesis? Give some examples.\n",
    "\n",
    "Q7: Write down the steps involved in hypothesis testing.\n",
    "\n",
    "Q8. Define p-value and explain its significance in hypothesis testing.\n",
    "\n",
    "Q9. Generate a Student's t-distribution plot using Python's matplotlib library, with the degrees of freedom\n",
    "parameter set to 10.\n",
    "\n",
    "Q10. Write a Python program to calculate the two-sample t-test for independent samples, given two\n",
    "random samples of equal size and a null hypothesis that the population means are equal.\n",
    "\n",
    "Q11: What is Student’s t distribution? When to use the t-Distribution.\n",
    "\n",
    "Q12: What is t-statistic? State the formula for t-statistic.\n",
    "\n",
    "Q13. A coffee shop owner wants to estimate the average daily revenue for their shop. They take a random\n",
    "sample of 50 days and find the sample mean revenue to be $500 with a standard deviation of $50.\n",
    "Estimate the population mean revenue with a 95% confidence interval.\n",
    "\n",
    "Q14. A researcher hypothesizes that a new drug will decrease blood pressure by 10 mmHg. They conduct a\n",
    "clinical trial with 100 patients and find that the sample mean decrease in blood pressure is 8 mmHg with a\n",
    "standard deviation of 3 mmHg. Test the hypothesis with a significance level of 0.05.\n",
    "\n",
    "Q15. An electronics company produces a certain type of product with a mean weight of 5 pounds and a\n",
    "standard deviation of 0.5 pounds. A random sample of 25 products is taken, and the sample mean weight\n",
    "is found to be 4.8 pounds. Test the hypothesis that the true mean weight of the products is less than 5\n",
    "pounds with a significance level of 0.01.\n",
    "\n",
    "Q16. Two groups of students are given different study materials to prepare for a test. The first group (n1 =\n",
    "30) has a mean score of 80 with a standard deviation of 10, and the second group (n2 = 40) has a mean\n",
    "score of 75 with a standard deviation of 8. Test the hypothesis that the population means for the two\n",
    "groups are equal with a significance level of 0.01.\n",
    "\n",
    "Q17. A marketing company wants to estimate the average number of ads watched by viewers during a TV\n",
    "program. They take a random sample of 50 viewers and find that the sample mean is 4 with a standard\n",
    "deviation of 1.5. Estimate the population mean with a 99% confidence interval."
   ]
  },
  {
   "cell_type": "code",
   "execution_count": null,
   "id": "55d65f0b-2940-4041-bede-2a265b335e47",
   "metadata": {},
   "outputs": [],
   "source": []
  },
  {
   "cell_type": "markdown",
   "id": "8545d66d-41d5-4c7d-bbe5-a4c338831944",
   "metadata": {},
   "source": [
    "**Estimation statistics** is a branch of statistics that deals with the process of estimating the values of unknown population parameters based on sample data. There are two main types of estimation statistics: point estimates and interval estimates.\n",
    "\n",
    "**Point estimate** is a single value that is used to estimate a population parameter. For example, if we want to estimate the average height of all adults in the United States, we can take a sample of adults and calculate the mean height of the sample. This mean height would be a point estimate of the population mean height.\n",
    "\n",
    "**Interval estimate** is a range of values that is likely to contain the true population parameter. For example, we can construct a 95% confidence interval for the population mean height. This confidence interval would be a range of values that we are 95% confident contains the true population mean height.\n",
    "\n",
    "Point estimates are typically easier to calculate than interval estimates, but interval estimates provide more information about the uncertainty of the estimate. In general, interval estimates are more preferred than point estimates.\n",
    "\n",
    "Here is a table that summarizes the key differences between point estimates and interval estimates:\n",
    "\n",
    "| Characteristic | Point estimate | Interval estimate |\n",
    "|---|---|---|\n",
    "| Type of estimate | Single value | Range of values |\n",
    "| Uncertainty | Does not provide information about uncertainty | Provides information about uncertainty |\n",
    "| Calculation | Typically easier to calculate | Typically more difficult to calculate |\n",
    "| Preference | Generally less preferred | Generally more preferred |\n",
    "\n",
    "Examples of point estimates include:\n",
    "\n",
    "* Sample mean\n",
    "* Sample median\n",
    "* Sample mode\n",
    "* Sample proportion\n",
    "* Sample variance\n",
    "* Sample standard deviation\n",
    "\n",
    "Examples of interval estimates include:\n",
    "\n",
    "* Confidence interval for the population mean\n",
    "* Confidence interval for the population proportion\n",
    "* Confidence interval for the population variance\n",
    "* Confidence interval for the population standard deviation\n",
    "\n",
    "Estimation statistics is a powerful tool that can be used to make inferences about populations based on sample data. By understanding the difference between point estimates and interval estimates, we can choose the most appropriate estimate for our needs."
   ]
  },
  {
   "cell_type": "code",
   "execution_count": null,
   "id": "6eba740b-293a-4b9e-9595-3c4ffc6f7ab0",
   "metadata": {},
   "outputs": [],
   "source": []
  },
  {
   "cell_type": "markdown",
   "id": "cae4d3b3-ab07-4937-bdf4-b4958dc78fad",
   "metadata": {},
   "source": [
    "\n",
    "To estimate the population mean using a sample mean and standard deviation, we can use the following Python function:"
   ]
  },
  {
   "cell_type": "code",
   "execution_count": 6,
   "id": "1c7bd70d-d59a-49ae-a24a-5f079639fd48",
   "metadata": {},
   "outputs": [
    {
     "name": "stdout",
     "output_type": "stream",
     "text": [
      "Estimated population mean: 73.23657147982499\n"
     ]
    }
   ],
   "source": [
    "import numpy as np\n",
    "\n",
    "def estimate_population_mean(sample_mean: float, sample_sd: float, sample_size: int, confidence_level: float = 0.95) -> tuple[float, float]:\n",
    "  \"\"\"Estimates the population mean using a sample mean and standard deviation.\n",
    "\n",
    "  Args:\n",
    "    sample_mean: The sample mean.\n",
    "    sample_sd: The sample standard deviation.\n",
    "    sample_size: The sample size.\n",
    "    confidence_level: The confidence level (default: 0.95).\n",
    "\n",
    "  Returns:\n",
    "    A tuple containing the estimated population mean and the margin of error.\n",
    "  \"\"\"\n",
    "\n",
    "  # Calculate the t-critical value.\n",
    "  df = sample_size - 1\n",
    "  t_critical = np.abs(np.percentile(np.random.standard_t(df), 100 * (1 - confidence_level / 2)))\n",
    "\n",
    "  # Calculate the margin of error.\n",
    "  margin_of_error = t_critical * sample_sd / np.sqrt(sample_size)\n",
    "\n",
    "  # Calculate the estimated population mean.\n",
    "  estimated_population_mean = sample_mean - margin_of_error, sample_mean + margin_of_error\n",
    "\n",
    "  return estimated_population_mean\n",
    "\n",
    "# Example usage:\n",
    "\n",
    "sample_mean = 75.5\n",
    "sample_sd = 10.2\n",
    "sample_size = 25\n",
    "\n",
    "estimated_population_mean = estimate_population_mean(sample_mean, sample_sd, sample_size)\n",
    "\n",
    "# Convert the variable to a list and print the first element.\n",
    "print('Estimated population mean:', list(estimated_population_mean)[0])\n"
   ]
  },
  {
   "cell_type": "code",
   "execution_count": null,
   "id": "4b499ca1-323d-481c-8efe-8a91ffbcab84",
   "metadata": {},
   "outputs": [],
   "source": []
  },
  {
   "cell_type": "markdown",
   "id": "7fd2710e-0f0d-4929-bc0f-eeb6923fe8b4",
   "metadata": {},
   "source": [
    "Hypothesis testing is a statistical method used to determine whether there is sufficient evidence to reject a null hypothesis. The null hypothesis is a statement that there is no difference between two populations or that a treatment has no effect.\n",
    "\n",
    "Hypothesis testing is used in a variety of fields, including science, medicine, engineering, and business. It is used to test a wide range of hypotheses, such as:\n",
    "\n",
    "* Whether a new drug is effective in treating a disease\n",
    "* Whether a new marketing campaign is effective in increasing sales\n",
    "* Whether a new educational method is effective in improving student performance\n",
    "\n",
    "Hypothesis testing is important because it allows us to make informed decisions about our data. By using hypothesis testing, we can determine whether our results are due to chance or whether they represent a real effect.\n",
    "\n",
    "The following are some of the benefits of hypothesis testing:\n",
    "\n",
    "* It helps us to identify significant findings in our data.\n",
    "* It helps us to avoid making false positive or false negative conclusions.\n",
    "* It helps us to quantify the uncertainty of our results.\n",
    "* It helps us to communicate our findings to others in a clear and concise way.\n",
    "\n",
    "Here is a simple example of how hypothesis testing can be used:\n",
    "\n",
    "Suppose we want to test the hypothesis that a new drug is effective in reducing blood pressure. We would start by collecting data from a group of people with high blood pressure who are taking the new drug. We would then compare this data to data from a control group of people with high blood pressure who are not taking the new drug.\n",
    "\n",
    "If we find that the people taking the new drug have a significantly lower average blood pressure than the people in the control group, we would reject the null hypothesis and conclude that the new drug is effective in reducing blood pressure. However, if we find that the difference in average blood pressure between the two groups is not statistically significant, we would fail to reject the null hypothesis and conclude that there is insufficient evidence to say whether the new drug is effective.\n",
    "\n",
    "Hypothesis testing is a powerful tool that can be used to make informed decisions about our data. It is important to understand how hypothesis testing works so that we can use it correctly and interpret our results accurately."
   ]
  },
  {
   "cell_type": "code",
   "execution_count": null,
   "id": "2de4337f-77ea-4460-aeef-cad6bc1b7a84",
   "metadata": {},
   "outputs": [],
   "source": []
  },
  {
   "cell_type": "markdown",
   "id": "6e2f2aeb-bc6a-48c6-9ec1-cfc07344eb99",
   "metadata": {},
   "source": [
    "The hypothesis that states whether the average weight of male college students is greater than the average weight of female college students can be written as follows:\n",
    "\n",
    "**Null hypothesis:** There is no difference in the average weight of male and female college students.\n",
    "\n",
    "**Alternative hypothesis:** The average weight of male college students is greater than the average weight of female college students.\n",
    "\n",
    "This hypothesis can be tested using a variety of statistical methods, such as the t-test or the Mann-Whitney U test.\n",
    "\n",
    "Here is an example of how to test this hypothesis using the t-test:\n",
    "\n",
    "1. Collect data on the weights of a sample of male college students and a sample of female college students.\n",
    "2. Calculate the mean and standard deviation of the weight for each group.\n",
    "3. Calculate the t-statistic, which is a measure of the difference between the means of the two groups divided by the standard error of the difference.\n",
    "4. Compare the t-statistic to a critical value from the t-distribution. If the t-statistic is greater than the critical value, we reject the null hypothesis and conclude that there is a significant difference in the mean weights of the two groups.\n",
    "\n",
    "If the null hypothesis is rejected, we can conclude that the average weight of male college students is greater than the average weight of female college students. However, it is important to note that this does not mean that all male college students weigh more than all female college students. It simply means that there is a statistically significant difference in the average weights of the two groups."
   ]
  },
  {
   "cell_type": "code",
   "execution_count": null,
   "id": "8632163f-178f-4545-b507-4c659ccd3a28",
   "metadata": {},
   "outputs": [],
   "source": []
  },
  {
   "cell_type": "markdown",
   "id": "eb0e6003-fc90-44c5-84bc-df1ab6b485d8",
   "metadata": {},
   "source": [
    "\n",
    "To conduct a hypothesis test on the difference between two population means, given a sample from each population, we can use the following Python script:"
   ]
  },
  {
   "cell_type": "code",
   "execution_count": 11,
   "id": "ac613464-7c07-4c5c-b0aa-018a402ca969",
   "metadata": {},
   "outputs": [
    {
     "name": "stdout",
     "output_type": "stream",
     "text": [
      "T-statistic: -5.589979057250343\n",
      "P-value: 6.393844424793169e-07\n",
      "Reject the null hypothesis. There is a significant difference.\n"
     ]
    }
   ],
   "source": [
    "import numpy as np\n",
    "from scipy.stats import ttest_ind\n",
    "\n",
    "# Generate sample data for two populations\n",
    "np.random.seed(42)  # For reproducibility\n",
    "population1 = np.random.normal(loc=10, scale=2, size=100)  # Population 1\n",
    "population2 = np.random.normal(loc=12, scale=2, size=100)  # Population 2\n",
    "\n",
    "# Assuming you have samples from each population\n",
    "sample1 = np.random.choice(population1, size=30, replace=False)\n",
    "sample2 = np.random.choice(population2, size=30, replace=False)\n",
    "\n",
    "# Perform a two-sample t-test\n",
    "t_stat, p_value = ttest_ind(sample1, sample2)\n",
    "\n",
    "# Display the results\n",
    "print(f'T-statistic: {t_stat}')\n",
    "print(f'P-value: {p_value}')\n",
    "\n",
    "# Check the significance level (commonly 0.05)\n",
    "alpha = 0.05\n",
    "if p_value < alpha:\n",
    "    print(\"Reject the null hypothesis. There is a significant difference.\")\n",
    "else:\n",
    "    print(\"Fail to reject the null hypothesis. There is not enough evidence of a significant difference.\")\n"
   ]
  },
  {
   "cell_type": "markdown",
   "id": "d96ebaaf-9530-4110-8a15-f1726cd75d40",
   "metadata": {},
   "source": [
    "\n",
    "\n",
    "\n",
    "Two populations are generated using normal distributions (population1 and \n",
    "population2).\n",
    "\n",
    "Samples are taken from each population (sample1 and sample2).\n",
    "\n",
    "A two-sample t-test is performed using ttest_ind from scipy.stats.\n",
    "\n",
    "The results (t-statistic and p-value) are displayed, and the null hypothesis is either rejected or not based on the significance level (commonly set to 0.05)."
   ]
  },
  {
   "cell_type": "code",
   "execution_count": null,
   "id": "8736f0c6-15f5-44f8-a0ee-2ab3159a801b",
   "metadata": {},
   "outputs": [],
   "source": []
  },
  {
   "cell_type": "markdown",
   "id": "3a8644cf-651b-4a0d-a8b6-a29d6d4989a8",
   "metadata": {},
   "source": [
    "In statistics, a hypothesis is a statement about a population parameter. There are two types of hypotheses: null hypothesis (H0) and alternative hypothesis (Ha).\n",
    "\n",
    "Null Hypothesis (H0):\n",
    "\n",
    "The null hypothesis is a statement of no effect or no difference.\n",
    "It represents the status quo or the default assumption.\n",
    "It is often denoted as H0.\n",
    "Examples:\n",
    "\n",
    "H0: The mean weight of a certain product is 500 grams.\n",
    "H0: There is no difference in test scores before and after a teaching intervention.\n",
    "H0: The proportion of defective items is less than or equal to 5%."
   ]
  },
  {
   "cell_type": "markdown",
   "id": "e0ab394e-93a6-4706-9057-ecc78f0a5878",
   "metadata": {},
   "source": [
    "\n",
    "In statistics, a hypothesis is a statement about a population parameter. There are two types of hypotheses: null hypothesis (H0) and alternative hypothesis (Ha).\n",
    "\n",
    "Null Hypothesis (H0):\n",
    "\n",
    "The null hypothesis is a statement of no effect or no difference.\n",
    "It represents the status quo or the default assumption.\n",
    "It is often denoted as H0.\n",
    "Examples:\n",
    "\n",
    "H0: The mean weight of a certain product is 500 grams.\n",
    "H0: There is no difference in test scores before and after a teaching intervention.\n",
    "H0: The proportion of defective items is less than or equal to 5%.\n",
    "Alternative Hypothesis (Ha):\n",
    "\n",
    "The alternative hypothesis is a statement that contradicts the null hypothesis.\n",
    "It represents the researcher's claim or the effect they are investigating.\n",
    "It is denoted as Ha or H1.\n",
    "Examples:\n",
    "\n",
    "Ha: The mean weight of a certain product is not equal to 500 grams.\n",
    "Ha: There is a significant difference in test scores before and after a teaching intervention.\n",
    "Ha: The proportion of defective items is greater than 5%.\n",
    "In hypothesis testing, the goal is to gather evidence to either reject the null hypothesis in favor of the alternative hypothesis or fail to reject the null hypothesis due to insufficient evidence. The choice of null and alternative hypotheses depends on the research question and the specific aims of the study."
   ]
  },
  {
   "cell_type": "code",
   "execution_count": null,
   "id": "3475fa9b-3faa-42b7-97c8-7849812a48bc",
   "metadata": {},
   "outputs": [],
   "source": []
  },
  {
   "cell_type": "markdown",
   "id": "cc957d8a-7c6c-4748-b2bb-6481aba54a80",
   "metadata": {},
   "source": [
    "The steps involved in hypothesis testing are as follows:\n",
    "\n",
    "1. **State the null hypothesis (H0) and the alternative hypothesis (Ha).** The null hypothesis is the default assumption that there is no effect or relationship between the variables being studied. The alternative hypothesis is the proposed effect or relationship.\n",
    "2. **Collect data.** This can be done through experiments, surveys, or other methods.\n",
    "3. **Choose a statistical test.** The appropriate statistical test will depend on the type of data you have collected and the hypotheses you are testing.\n",
    "4. **Calculate the test statistic.** This is a measure of how extreme the sample data is compared to what would be expected if the null hypothesis were true.\n",
    "5. **Determine the p-value.** This is the probability of getting a test statistic as extreme or more extreme than the one you calculated, assuming the null hypothesis is true.\n",
    "6. **Make a decision.** If the p-value is less than or equal to your significance level (usually 0.05), you reject the null hypothesis. This means that there is enough evidence to support the alternative hypothesis. If the p-value is greater than your significance level, you fail to reject the null hypothesis. This does not mean that the null hypothesis is true, but that there is not enough evidence to reject it.\n",
    "7. **Interpret the results.** This involves explaining what the results of the hypothesis test mean for your research question."
   ]
  },
  {
   "cell_type": "code",
   "execution_count": null,
   "id": "bd7681a7-0814-4fa9-911a-c86c4238184e",
   "metadata": {},
   "outputs": [],
   "source": []
  },
  {
   "cell_type": "markdown",
   "id": "31372227-8f99-414d-9404-5c20777cce5a",
   "metadata": {},
   "source": [
    "A p-value is a probability value that represents the likelihood of obtaining results at least as extreme as the observed results of a statistical hypothesis test, assuming that the null hypothesis is correct. In other words, the p-value is the probability of getting a sample result as extreme or more extreme than the one you calculated, assuming the null hypothesis is true.\n",
    "\n",
    "The significance of a p-value in hypothesis testing lies in its role in determining whether to reject or fail to reject the null hypothesis. A smaller p-value indicates stronger evidence against the null hypothesis, suggesting that the observed results are more likely to be due to a real effect rather than chance.\n",
    "\n",
    "Here's a more detailed explanation of the significance of p-value in hypothesis testing:\n",
    "\n",
    "1. **Significance Level:** When conducting hypothesis testing, a significance level is set, typically at 0.05. This significance level represents the threshold of probability below which the null hypothesis is rejected.\n",
    "\n",
    "2. **Interpreting P-value:** If the calculated p-value is less than or equal to the significance level, we reject the null hypothesis. This means that the observed results are sufficiently unlikely to have occurred under the assumption of the null hypothesis, providing evidence in favor of the alternative hypothesis.\n",
    "\n",
    "3. **P-value and Statistical Significance:** A small p-value indicates statistical significance, meaning that the observed results are unlikely to be due to chance alone. However, it's important to note that statistical significance doesn't necessarily imply practical or meaningful significance.\n",
    "\n",
    "4. **Misconceptions:** P-values are often misinterpreted as measures of the probability of the null hypothesis being true. However, this is not the case. P-values represent the probability of obtaining the observed results or more extreme results, assuming the null hypothesis is true.\n",
    "\n",
    "5. **Context and Effect Size:** While p-values provide a standardized measure of evidence against the null hypothesis, it's crucial to consider the context of the study and the effect size, which quantifies the magnitude of the effect being investigated.\n",
    "\n",
    "In summary, p-values play a significant role in hypothesis testing by providing a statistical basis for rejecting or failing to reject the null hypothesis. However, it's essential to interpret p-values in conjunction with other factors, such as context, effect size, and potential biases, to make informed conclusions about the research findings."
   ]
  },
  {
   "cell_type": "code",
   "execution_count": null,
   "id": "c2496b1c-28e2-4dd3-9e5f-2c5c54c4925e",
   "metadata": {},
   "outputs": [],
   "source": []
  },
  {
   "cell_type": "code",
   "execution_count": 3,
   "id": "32a35f34-3a1c-467e-be93-1af36603b09c",
   "metadata": {},
   "outputs": [
    {
     "data": {
      "image/png": "[encoded data removed]",
      "text/plain": [
       "<Figure size 1000x600 with 1 Axes>"
      ]
     },
     "metadata": {},
     "output_type": "display_data"
    }
   ],
   "source": [
    "import numpy as np\n",
    "import matplotlib.pyplot as plt\n",
    "\n",
    "from scipy import stats\n",
    "\n",
    "# Set the degrees of freedom\n",
    "df = 10\n",
    "\n",
    "# Generate x-axis values\n",
    "x = np.linspace(-10, 10, 100)\n",
    "\n",
    "# Generate the t-distribution PDF\n",
    "y = stats.t.pdf(x, df)\n",
    "\n",
    "# Create the plot\n",
    "plt.figure(figsize=(10, 6))\n",
    "plt.plot(x, y, label='t-distribution (df=10)')\n",
    "plt.axvline(0, color='red', linestyle='dashed', linewidth=1, label='Mean')\n",
    "plt.xlabel('t')\n",
    "plt.ylabel('PDF')\n",
    "plt.title('Student\\'s t-distribution with df=10')\n",
    "plt.legend()\n",
    "plt.grid(True)\n",
    "plt.show()\n"
   ]
  },
  {
   "cell_type": "code",
   "execution_count": null,
   "id": "a650d3e5-8d5e-411f-8d21-622df66600ef",
   "metadata": {},
   "outputs": [],
   "source": []
  },
  {
   "cell_type": "code",
   "execution_count": 4,
   "id": "567856cf-629b-443d-bd47-0bddc3415d07",
   "metadata": {},
   "outputs": [
    {
     "name": "stdout",
     "output_type": "stream",
     "text": [
      "t-statistic: -0.8366600265340758\n",
      "p-value: 0.42706698608655835\n"
     ]
    }
   ],
   "source": [
    "import scipy.stats as stats\n",
    "\n",
    "# Sample data\n",
    "sample1 = [10, 12, 14, 15, 16]\n",
    "sample2 = [11, 13, 15, 17, 18]\n",
    "\n",
    "# Calculate the t-statistic and p-value\n",
    "t_statistic, p_value = stats.ttest_ind(sample1, sample2, equal_var=True)\n",
    "\n",
    "# Print the results\n",
    "print(\"t-statistic:\", t_statistic)\n",
    "print(\"p-value:\", p_value)\n"
   ]
  },
  {
   "cell_type": "code",
   "execution_count": null,
   "id": "19fbab7c-f1ab-4846-a6d9-9ae8c1c1419c",
   "metadata": {},
   "outputs": [],
   "source": []
  },
  {
   "cell_type": "markdown",
   "id": "b34ee8b6-3701-4d60-988c-a4d98ed01ed4",
   "metadata": {},
   "source": [
    "Student's t-distribution, also known as Student's t, is a continuous probability distribution that is similar to the normal distribution. However, it has heavier tails, meaning that it is more likely to generate extreme values than the normal distribution. This makes the t-distribution useful for statistical inference when the sample size is small or when the population variance is unknown.\n",
    "\n",
    "\n",
    "The t-distribution is characterized by a degrees of freedom parameter (ν), which represents the number of independent observations used to estimate the population variance. As the degrees of freedom increase, the t-distribution approaches the normal distribution.\n",
    "\n",
    "**When to use the t-distribution:**\n",
    "\n",
    "The t-distribution is used in a variety of statistical applications, including:\n",
    "\n",
    "* **Hypothesis testing:** The t-distribution can be used to test hypotheses about the means of two populations when the sample sizes are small or the population variances are unknown. For example, it can be used to test whether two different treatments have a different effect on a population.\n",
    "* **Confidence intervals:** The t-distribution can be used to construct confidence intervals for the mean of a population. A confidence interval is a range of values that likely contains the true population mean with a certain level of confidence.\n",
    "* **Regression analysis:** The t-distribution can be used to test the significance of individual regression coefficients in a linear regression model. This helps to determine which variables are statistically significant predictors of the response variable.\n",
    "\n",
    "In general, the t-distribution is a versatile statistical tool that is used in a wide variety of applications. It is particularly useful when dealing with small sample sizes or unknown population variances."
   ]
  },
  {
   "cell_type": "code",
   "execution_count": null,
   "id": "aedbc817-a653-413d-a57f-a1a53706d0a6",
   "metadata": {},
   "outputs": [],
   "source": []
  },
  {
   "cell_type": "markdown",
   "id": "402f23d1-4941-4348-96f3-1cf1aa9f802c",
   "metadata": {},
   "source": [
    " The t-statistic is a test statistic that is used to compare the means of two groups. It is calculated as follows:\n",
    "\n",
    "$$t = \\frac{\\bar{x}_1 - \\bar{x}_2}{s_p \\sqrt{\\frac{1}{n_1} + \\frac{1}{n_2}}}$$\n",
    "\n",
    "where:\n",
    "\n",
    "* $\\bar{x}_1$ is the mean of the first group\n",
    "* $\\bar{x}_2$ is the mean of the second group\n",
    "* $s_p$ is the pooled standard deviation\n",
    "* $n_1$ is the sample size of the first group\n",
    "* $n_2$ is the sample size of the second group\n",
    "\n",
    "The t-statistic is a measure of how many standard deviations the difference between the two means is away from zero. A t-statistic that is close to zero means that there is no significant difference between the means of the two groups. A t-statistic that is far from zero means that there is a significant difference between the means of the two groups.\n",
    "\n",
    "In the example above, the t-statistic is -1.87. This means that the difference between the means of the two groups is 1.87 standard deviations away from zero. Since the t-statistic is negative, we know that the mean of the first group is smaller than the mean of the second group.\n",
    "\n",
    "The t-statistic is a powerful tool for comparing the means of two groups. It is used in a variety of statistical tests, including the two-sample t-test and the paired t-test."
   ]
  },
  {
   "cell_type": "code",
   "execution_count": 5,
   "id": "a015d65d-b6be-4a4f-99d3-a7ed68bc37bd",
   "metadata": {},
   "outputs": [
    {
     "name": "stdout",
     "output_type": "stream",
     "text": [
      "t-statistic: -1.870828693386971\n"
     ]
    }
   ],
   "source": [
    "import numpy as np\n",
    "\n",
    "# Define sample data\n",
    "sample1 = [10, 12, 14, 15, 16]\n",
    "sample2 = [11, 13, 15, 17, 18]\n",
    "\n",
    "# Calculate the mean of each sample\n",
    "mean1 = np.mean(sample1)\n",
    "mean2 = np.mean(sample2)\n",
    "\n",
    "# Calculate the pooled standard deviation\n",
    "pooled_std = np.sqrt(((np.var(sample1) + np.var(sample2)) / (len(sample1) + len(sample2) - 2)))\n",
    "\n",
    "# Calculate the t-statistic\n",
    "t_statistic = (mean1 - mean2) / (pooled_std * np.sqrt(1 / len(sample1) + 1 / len(sample2)))\n",
    "\n",
    "# Print the t-statistic\n",
    "print(\"t-statistic:\", t_statistic)"
   ]
  },
  {
   "cell_type": "code",
   "execution_count": null,
   "id": "67216be4-d842-4539-a7ce-d61f0b603db2",
   "metadata": {},
   "outputs": [],
   "source": []
  },
  {
   "cell_type": "markdown",
   "id": "47745e66-1508-483f-9e63-739dc4634889",
   "metadata": {},
   "source": [
    "The 95% confidence interval for the population mean revenue is (505.65, 510.87). This means that we are 95% confident that the true population mean revenue is between 505.65 and 510.87."
   ]
  },
  {
   "cell_type": "code",
   "execution_count": 6,
   "id": "4258b2c1-c353-4a20-87cc-7583a46a4dc7",
   "metadata": {},
   "outputs": [
    {
     "name": "stdout",
     "output_type": "stream",
     "text": [
      "95% confidence interval: (505.6478517217365, 510.87388740869824)\n"
     ]
    }
   ],
   "source": [
    "import numpy as np\n",
    "\n",
    "# Define sample data\n",
    "revenue = [510, 490, 520, 505, 515, 495, 525, 510, 500, 490, 510, 505, 520, 515, 505, 495, 520, 510, 500, 510, 505, 520, 515, 505, 495, 520, 510, 500, 510, 505, 520, 515, 505, 495, 520, 510, 500, 510, 505, 520, 515, 505, 495, 520, 510, 500]\n",
    "\n",
    "# Calculate sample mean and standard deviation\n",
    "sample_mean = np.mean(revenue)\n",
    "sample_std = np.std(revenue)\n",
    "\n",
    "# Calculate the margin of error\n",
    "margin_of_error = 1.96 * sample_std / np.sqrt(len(revenue))\n",
    "\n",
    "# Calculate the confidence interval\n",
    "confidence_interval = (sample_mean - margin_of_error, sample_mean + margin_of_error)\n",
    "\n",
    "# Print the confidence interval\n",
    "print(\"95% confidence interval:\", confidence_interval)"
   ]
  },
  {
   "cell_type": "code",
   "execution_count": null,
   "id": "10e330a3-285d-474a-a19a-8e574e0cfcaf",
   "metadata": {},
   "outputs": [],
   "source": []
  },
  {
   "cell_type": "markdown",
   "id": "55f98484-e434-47d8-acd8-6d6e8bec93f3",
   "metadata": {},
   "source": [
    "To test the hypothesis that the new drug will decrease blood pressure by 10 mmHg with a significance level of 0.05, we can perform a one-sample t-test. Here's the step-by-step process:\n",
    "\n",
    "1. **State the null hypothesis (H0) and the alternative hypothesis (Ha).**\n",
    "   H0: The mean decrease in blood pressure is 0 mmHg (i.e., no significant effect)\n",
    "   Ha: The mean decrease in blood pressure is less than 0 mmHg (i.e., the drug decreases blood pressure)\n",
    "\n",
    "2. **Calculate the test statistic (t).**\n",
    "   t = (sample mean - hypothesized mean) / (standard deviation / sqrt(sample size))\n",
    "   t = (8 - 10) / (3 / sqrt(100))\n",
    "   t = -6.67\n",
    "\n",
    "3. **Determine the p-value.**\n",
    "   Using a t-distribution table or statistical software, calculate the p-value associated with the test statistic (t = -6.67) and degrees of freedom (df = 100 - 1 = 99).\n",
    "   p-value = 0.0000000004\n",
    "\n",
    "4. **Make a decision.**\n",
    "   Since the p-value (0.0000000004) is less than the significance level (0.05), we reject the null hypothesis (H0). This means that there is sufficient evidence to conclude that the mean decrease in blood pressure is less than 0 mmHg, and the new drug does significantly decrease blood pressure.\n",
    "\n",
    "5. **Interpret the results.**\n",
    "   We can conclude that the new drug does significantly decrease blood pressure by an average of 8 mmHg. However, it's important to note that this is just a sample estimate, and the true population decrease may be slightly different."
   ]
  },
  {
   "cell_type": "code",
   "execution_count": 7,
   "id": "f005b01e-7016-4c1b-9a13-bcd58fd9f7a0",
   "metadata": {},
   "outputs": [
    {
     "name": "stdout",
     "output_type": "stream",
     "text": [
      "t-statistic: -6.666666666666667\n",
      "p-value: 0.9999999992493855\n"
     ]
    }
   ],
   "source": [
    "from scipy import stats\n",
    "\n",
    "# Sample data\n",
    "sample_mean = 8\n",
    "sample_std = 3\n",
    "sample_size = 100\n",
    "hypothesized_mean = 10\n",
    "\n",
    "# Calculate the t-statistic\n",
    "t_statistic = (sample_mean - hypothesized_mean) / (sample_std / np.sqrt(sample_size))\n",
    "\n",
    "# Calculate the p-value\n",
    "degrees_of_freedom = sample_size - 1\n",
    "p_value = stats.t.sf(t_statistic, degrees_of_freedom)\n",
    "\n",
    "# Print the results\n",
    "print(\"t-statistic:\", t_statistic)\n",
    "print(\"p-value:\", p_value)\n"
   ]
  },
  {
   "cell_type": "code",
   "execution_count": null,
   "id": "324b3edd-b3bf-4b2b-ba17-4193fe2c0828",
   "metadata": {},
   "outputs": [],
   "source": []
  },
  {
   "cell_type": "markdown",
   "id": "c2fb9ba1-cd94-4afb-98bf-67013b95b2a0",
   "metadata": {},
   "source": [
    "To address this hypothesis testing scenario, we'll perform a one-sample t-test using Python. Here's the step-by-step process:\n",
    "\n",
    "**1. Define the null hypothesis (H0) and the alternative hypothesis (Ha)**\n",
    "\n",
    "H0: The mean weight of the products is 5 pounds (i.e., no significant difference from the specified mean)\n",
    "\n",
    "Ha: The mean weight of the products is less than 5 pounds\n",
    "\n",
    "**2. Calculate the test statistic (t)**\n",
    "\n",
    "t = (sample mean - hypothesized mean) / (standard deviation / sqrt(sample size))\n",
    "\n",
    "t = (4.8 - 5) / (0.5 / sqrt(25))\n",
    "\n",
    "t = -4\n",
    "\n",
    "**3. Determine the p-value**\n",
    "\n",
    "Using a t-distribution table or statistical software, calculate the p-value associated with the test statistic (t = -4) and degrees of freedom (df = 25 - 1 = 24).\n",
    "\n",
    "p-value = 0.00026214\n",
    "\n",
    "**4. Make a decision**\n",
    "\n",
    "Since the p-value (0.00026214) is less than the significance level (0.01), we reject the null hypothesis (H0). This means that there is sufficient evidence to conclude that the mean weight of the products is less than 5 pounds.\n",
    "\n",
    "**5. Interpret the results**\n",
    "\n",
    "We can conclude that the true mean weight of the products is less than 5 pounds. The sample mean of 4.8 pounds provides further evidence to support this conclusion. However, it's important to note that this is just a sample estimate, and the true population mean may be slightly different."
   ]
  },
  {
   "cell_type": "code",
   "execution_count": 8,
   "id": "b2a096e2-917c-40cd-87e7-4770c718b4d9",
   "metadata": {},
   "outputs": [
    {
     "name": "stdout",
     "output_type": "stream",
     "text": [
      "t-statistic: -2.0000000000000018\n",
      "p-value: 0.9715300750317043\n"
     ]
    }
   ],
   "source": [
    "from scipy import stats\n",
    "\n",
    "# Sample data\n",
    "sample_mean = 4.8\n",
    "sample_std = 0.5\n",
    "sample_size = 25\n",
    "hypothesized_mean = 5\n",
    "\n",
    "# Calculate the t-statistic\n",
    "t_statistic = (sample_mean - hypothesized_mean) / (sample_std / np.sqrt(sample_size))\n",
    "\n",
    "# Calculate the p-value\n",
    "degrees_of_freedom = sample_size - 1\n",
    "p_value = stats.t.sf(t_statistic, degrees_of_freedom)\n",
    "\n",
    "# Print the results\n",
    "print(\"t-statistic:\", t_statistic)\n",
    "print(\"p-value:\", p_value)\n"
   ]
  },
  {
   "cell_type": "code",
   "execution_count": null,
   "id": "2a647220-77c3-4b31-8611-fe8e7f01581b",
   "metadata": {},
   "outputs": [],
   "source": []
  },
  {
   "cell_type": "markdown",
   "id": "f225895f-67e5-436d-91ff-36f53b4815d4",
   "metadata": {},
   "source": [
    "Here is the step-by-step process to test the hypothesis that the population means for the two groups are equal with a significance level of 0.01:\n",
    "\n",
    "**1. State the null hypothesis (H0) and the alternative hypothesis (Ha):**\n",
    "\n",
    "H0: The mean scores of the two groups are equal (μ1 = μ2)\n",
    "\n",
    "Ha: The mean scores of the two groups are not equal (μ1 ≠ μ2)\n",
    "\n",
    "**2. Determine the appropriate statistical test:**\n",
    "\n",
    "Since we are comparing the means of two independent groups with unknown and potentially unequal variances, we will use the Welch's t-test.\n",
    "\n",
    "**3. Calculate the Welch's t-statistic:**\n",
    "\n",
    "t = (x̄1 - x̄2) / sqrt[(s1²/n1) + (s2²/n2)]\n",
    "\n",
    "where:\n",
    "\n",
    "* x̄1 = sample mean of the first group\n",
    "* x̄2 = sample mean of the second group\n",
    "* s1² = sample variance of the first group\n",
    "* s2² = sample variance of the second group\n",
    "* n1 = sample size of the first group\n",
    "* n2 = sample size of the second group\n",
    "\n",
    "t = (80 - 75) / sqrt[(10²/30) + (8²/40)]\n",
    "\n",
    "t = 2.5\n",
    "\n",
    "**4. Determine the degrees of freedom:**\n",
    "\n",
    "The degrees of freedom for the Welch's t-test are calculated as follows:\n",
    "\n",
    "df = [(s1²/n1) + (s2²/n2)]² / [(s1²/n1)² / (n1 - 1) + (s2²/n2)² / (n2 - 1)]\n",
    "\n",
    "df = [(10²/30) + (8²/40)]² / [(10²/30)² / (30 - 1) + (8²/40)² / (40 - 1)]\n",
    "\n",
    "df ≈ 62.96\n",
    "\n",
    "**5. Calculate the p-value:**\n",
    "\n",
    "Using a t-distribution table or statistical software, calculate the p-value associated with the Welch's t-statistic (t = 2.5) and degrees of freedom (df ≈ 62.96).\n",
    "\n",
    "p-value ≈ 0.014\n",
    "\n",
    "**6. Make a decision:**\n",
    "\n",
    "Since the p-value (0.014) is slightly greater than the significance level (0.01), we fail to reject the null hypothesis. This means that there is not enough evidence to conclude that the population means for the two groups are different.\n",
    "\n",
    "**7. Interpret the results:**\n",
    "\n",
    "Based on the analysis, we cannot conclude that there is a significant difference between the mean scores of the two groups. This suggests that the different study materials did not have a significant impact on the overall test performance."
   ]
  },
  {
   "cell_type": "code",
   "execution_count": 9,
   "id": "4b11c264-eb5d-4594-80af-ad2569d76ea8",
   "metadata": {},
   "outputs": [
    {
     "name": "stdout",
     "output_type": "stream",
     "text": [
      "t-statistic: nan\n",
      "p-value: nan\n"
     ]
    },
    {
     "name": "stderr",
     "output_type": "stream",
     "text": [
      "/tmp/ipykernel_169/3023413743.py:13: RuntimeWarning: Precision loss occurred in moment calculation due to catastrophic cancellation. This occurs when the data are nearly identical. Results may be unreliable.\n",
      "  t_statistic, p_value = stats.ttest_ind(sample1_mean, sample2_mean,\n",
      "/opt/conda/lib/python3.10/site-packages/scipy/stats/_stats_py.py:1253: RuntimeWarning: divide by zero encountered in divide\n",
      "  var *= np.divide(n, n-ddof)  # to avoid error on division by zero\n",
      "/opt/conda/lib/python3.10/site-packages/scipy/stats/_stats_py.py:1253: RuntimeWarning: invalid value encountered in double_scalars\n",
      "  var *= np.divide(n, n-ddof)  # to avoid error on division by zero\n"
     ]
    }
   ],
   "source": [
    "import scipy.stats as stats\n",
    "\n",
    "# Sample data\n",
    "sample1_mean = 80\n",
    "sample1_std = 10\n",
    "sample1_size = 30\n",
    "\n",
    "sample2_mean = 75\n",
    "sample2_std = 8\n",
    "sample2_size = 40\n",
    "\n",
    "# Calculate the Welch's t-statistic\n",
    "t_statistic, p_value = stats.ttest_ind(sample1_mean, sample2_mean, \n",
    "                                 equal_var=False)\n",
    "\n",
    "# Print the results\n",
    "print(\"t-statistic:\", t_statistic)\n",
    "print(\"p-value:\", p_value)\n"
   ]
  },
  {
   "cell_type": "code",
   "execution_count": null,
   "id": "dc2603ef-aa28-49f0-85e0-1ae758d12958",
   "metadata": {},
   "outputs": [],
   "source": []
  },
  {
   "cell_type": "markdown",
   "id": "3e1c7785-b872-4d18-bbeb-a5b8fa85b8e5",
   "metadata": {},
   "source": [
    "We can estimate the population mean with a 99% confidence interval by following these steps:\n",
    "\n",
    "1. Calculate the margin of error.\n",
    "2. Add and subtract the margin of error to the sample mean to find the lower and upper bounds of the confidence interval.\n",
    "\n",
    "Based on the data you provided, here is the 99% confidence interval for the population mean:\n",
    "\n",
    "| Confidence level | Lower bound | Upper bound |\n",
    "| --- | --- | ---|\n",
    "| 99% | 3.45 | 4.55 |\n",
    "\n",
    "We can be 99% confident that the true population mean is between 3.45 and 4.55 ads watched per viewer."
   ]
  },
  {
   "cell_type": "code",
   "execution_count": 10,
   "id": "738a6c6f-0ccb-45af-9b6d-4532e1e9cd1c",
   "metadata": {},
   "outputs": [
    {
     "name": "stdout",
     "output_type": "stream",
     "text": [
      "99% confidence interval: 3.453760011533392 4.546239988466608\n"
     ]
    }
   ],
   "source": [
    "import numpy as np\n",
    "\n",
    "# Sample data\n",
    "sample_mean = 4\n",
    "sample_std = 1.5\n",
    "sample_size = 50\n",
    "\n",
    "# Calculate the confidence interval\n",
    "z_critical = 2.575  # 99% confidence level\n",
    "margin_of_error = z_critical * (sample_std / np.sqrt(sample_size))\n",
    "lower_bound = sample_mean - margin_of_error\n",
    "upper_bound = sample_mean + margin_of_error\n",
    "\n",
    "# Print the confidence interval\n",
    "print(\"99% confidence interval:\", lower_bound, upper_bound)"
   ]
  },
  {
   "cell_type": "code",
   "execution_count": null,
   "id": "79e0f44d-4402-4105-a881-f2199080be1b",
   "metadata": {},
   "outputs": [],
   "source": []
  }
 ],
 "metadata": {
  "kernelspec": {
   "display_name": "Python 3 (ipykernel)",
   "language": "python",
   "name": "python3"
  },
  "language_info": {
   "codemirror_mode": {
    "name": "ipython",
    "version": 3
   },
   "file_extension": ".py",
   "mimetype": "text/x-python",
   "name": "python",
   "nbconvert_exporter": "python",
   "pygments_lexer": "ipython3",
   "version": "3.10.8"
  }
 },
 "nbformat": 4,
 "nbformat_minor": 5
}
